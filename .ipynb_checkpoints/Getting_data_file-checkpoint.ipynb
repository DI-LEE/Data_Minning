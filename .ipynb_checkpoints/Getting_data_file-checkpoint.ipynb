{
 "cells": [
  {
   "cell_type": "markdown",
   "id": "cad00b23",
   "metadata": {},
   "source": [
    "# Getting Data from file"
   ]
  },
  {
   "cell_type": "markdown",
   "id": "5f2b5101",
   "metadata": {},
   "source": [
    "## Most Common Words\n",
    "* counts the words in its input and writes out the most common ones"
   ]
  },
  {
   "cell_type": "code",
   "execution_count": null,
   "id": "8bcbfcc3",
   "metadata": {},
   "outputs": [],
   "source": [
    "import sys\n",
    "from collections import Counter\n",
    "\n",
    "try:\n",
    "    num_words = int(sys.argv[1]) #두번째 인자\n",
    "except:\n",
    "    print(\"usage: most_common_words.py nuim_words\")\n",
    "    sys.exit()\n",
    "\n",
    "counter = Counter(word.lower()\n",
    "                    for line in sys.stdin\n",
    "                    for word in line.strip().split()\n",
    "                    if word)\n",
    "for word, count in counter.most_common(num_words):\n",
    "    sys.stdout.write(str(count))\n",
    "    sys.stdout.write(\"\\t\")\n",
    "    sys.stdout.write(word)\n",
    "    sys.stdout.write(\"\\n\")"
   ]
  },
  {
   "cell_type": "code",
   "execution_count": null,
   "id": "963fd6c7",
   "metadata": {},
   "outputs": [],
   "source": [
    "!type the_bible.txt | python3 most_common_words.py 10"
   ]
  },
  {
   "cell_type": "markdown",
   "id": "ce2e1b9e",
   "metadata": {},
   "source": [
    "## Reading Files"
   ]
  },
  {
   "cell_type": "markdown",
   "id": "4114f31f",
   "metadata": {},
   "source": [
    "### base"
   ]
  },
  {
   "cell_type": "markdown",
   "id": "1a2c2dc0",
   "metadata": {},
   "source": [
    "> read-only"
   ]
  },
  {
   "cell_type": "code",
   "execution_count": null,
   "id": "f725759a",
   "metadata": {},
   "outputs": [],
   "source": [
    "file_reading = open('file.txt', 'r')"
   ]
  },
  {
   "cell_type": "markdown",
   "id": "77d32c08",
   "metadata": {},
   "source": [
    "> write-only"
   ]
  },
  {
   "cell_type": "code",
   "execution_count": null,
   "id": "76316add",
   "metadata": {},
   "outputs": [],
   "source": [
    "file_writing = open('file.txt', 'w')"
   ]
  },
  {
   "cell_type": "markdown",
   "id": "24ac6ab3",
   "metadata": {},
   "source": [
    "> append-only\n",
    "* add to the end of the file"
   ]
  },
  {
   "cell_type": "code",
   "execution_count": null,
   "id": "fa30ca7e",
   "metadata": {},
   "outputs": [],
   "source": [
    "file_appending = open('file.txt', 'a')"
   ]
  },
  {
   "cell_type": "markdown",
   "id": "04b94ffb",
   "metadata": {},
   "source": [
    "> 무조건 close 해주어야 함"
   ]
  },
  {
   "cell_type": "code",
   "execution_count": null,
   "id": "b988278e",
   "metadata": {},
   "outputs": [],
   "source": [
    "file_reading.close()\n",
    "file_writing.close()\n",
    "file_appending.close()"
   ]
  },
  {
   "cell_type": "markdown",
   "id": "fe4896b9",
   "metadata": {},
   "source": [
    "> with\n",
    "* with 를 사용 하면 자동으로 close"
   ]
  },
  {
   "cell_type": "code",
   "execution_count": null,
   "id": "ccafb5dd",
   "metadata": {},
   "outputs": [],
   "source": [
    "with open(filename, 'r') as f:\n",
    "    data = function_data_from(f)\n",
    "#automatically closed\n",
    "process(data)"
   ]
  }
 ],
 "metadata": {
  "kernelspec": {
   "display_name": "Python 3 (ipykernel)",
   "language": "python",
   "name": "python3"
  },
  "language_info": {
   "codemirror_mode": {
    "name": "ipython",
    "version": 3
   },
   "file_extension": ".py",
   "mimetype": "text/x-python",
   "name": "python",
   "nbconvert_exporter": "python",
   "pygments_lexer": "ipython3",
   "version": "3.9.7"
  }
 },
 "nbformat": 4,
 "nbformat_minor": 5
}
