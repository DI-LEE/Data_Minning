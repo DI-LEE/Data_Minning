{
 "cells": [
  {
   "cell_type": "markdown",
   "id": "da27328e",
   "metadata": {},
   "source": [
    "# Scraping the Web"
   ]
  },
  {
   "cell_type": "code",
   "execution_count": 18,
   "id": "22f1785b",
   "metadata": {},
   "outputs": [],
   "source": [
    "from bs4 import BeautifulSoup\n",
    "\n",
    "html = \"\"\"\n",
    "<html>\n",
    "    <head>\n",
    "        <title>Web title</title>\n",
    "    </head>\n",
    "    <body>\n",
    "        <p id=\"author\">Dong In Lee</p>\n",
    "        <p id=\"Subject\">Data Mining</p>\n",
    "        <p class=\"price\">10000 dolors</p>\n",
    "    </body>\n",
    "</html>\"\"\"\n",
    "#DOM structer 객체를 soup 이 가리킴\n",
    "soup = BeautifulSoup(html, 'html5lib')"
   ]
  },
  {
   "cell_type": "markdown",
   "id": "3ac7f65f",
   "metadata": {},
   "source": [
    "## DOM structer 객체"
   ]
  },
  {
   "cell_type": "code",
   "execution_count": 25,
   "id": "d6943397",
   "metadata": {},
   "outputs": [
    {
     "data": {
      "text/plain": [
       "<html><head>\n",
       "        <title>Web title</title>\n",
       "    </head>\n",
       "    <body>\n",
       "        <p id=\"author\">Dong In Lee</p>\n",
       "        <p id=\"Subject\">Data Mining</p>\n",
       "        <p class=\"price\">10000 dolors</p>\n",
       "    \n",
       "</body></html>"
      ]
     },
     "execution_count": 25,
     "metadata": {},
     "output_type": "execute_result"
    }
   ],
   "source": [
    "BeautifulSoup(html, 'html5lib')"
   ]
  },
  {
   "cell_type": "markdown",
   "id": "b5c330e8",
   "metadata": {},
   "source": [
    "Find **title**"
   ]
  },
  {
   "cell_type": "code",
   "execution_count": 26,
   "id": "9d320702",
   "metadata": {},
   "outputs": [
    {
     "data": {
      "text/plain": [
       "<title>Web title</title>"
      ]
     },
     "execution_count": 26,
     "metadata": {},
     "output_type": "execute_result"
    }
   ],
   "source": [
    "soup.title"
   ]
  },
  {
   "cell_type": "code",
   "execution_count": 27,
   "id": "961639e8",
   "metadata": {},
   "outputs": [
    {
     "data": {
      "text/plain": [
       "'Web title'"
      ]
     },
     "execution_count": 27,
     "metadata": {},
     "output_type": "execute_result"
    }
   ],
   "source": [
    "soup.title.text"
   ]
  },
  {
   "cell_type": "markdown",
   "id": "13c42054",
   "metadata": {},
   "source": [
    "Find **p** of **body**"
   ]
  },
  {
   "cell_type": "code",
   "execution_count": 32,
   "id": "9f6d3bbb",
   "metadata": {},
   "outputs": [
    {
     "data": {
      "text/plain": [
       "[<p id=\"author\">Dong In Lee</p>,\n",
       " <p id=\"Subject\">Data Mining</p>,\n",
       " <p class=\"price\">10000 dolors</p>]"
      ]
     },
     "execution_count": 32,
     "metadata": {},
     "output_type": "execute_result"
    }
   ],
   "source": [
    "soup.body('p')"
   ]
  },
  {
   "cell_type": "code",
   "execution_count": 47,
   "id": "56ac9917",
   "metadata": {},
   "outputs": [
    {
     "data": {
      "text/plain": [
       "'Dong In Lee'"
      ]
     },
     "execution_count": 47,
     "metadata": {},
     "output_type": "execute_result"
    }
   ],
   "source": [
    "soup.p.text #첫번째 p만 가져온다."
   ]
  },
  {
   "cell_type": "markdown",
   "id": "0a7c96a0",
   "metadata": {},
   "source": [
    "Find second **p**'s text of **body**"
   ]
  },
  {
   "cell_type": "code",
   "execution_count": 37,
   "id": "6ab5d5b2",
   "metadata": {},
   "outputs": [
    {
     "data": {
      "text/plain": [
       "'Data Mining'"
      ]
     },
     "execution_count": 37,
     "metadata": {},
     "output_type": "execute_result"
    }
   ],
   "source": [
    "soup.body('p')[1].text"
   ]
  },
  {
   "cell_type": "code",
   "execution_count": 39,
   "id": "28c05503",
   "metadata": {},
   "outputs": [
    {
     "name": "stdout",
     "output_type": "stream",
     "text": [
      "Data Mining\n"
     ]
    }
   ],
   "source": [
    "print(soup.body('p')[1].text)"
   ]
  },
  {
   "cell_type": "markdown",
   "id": "78591551",
   "metadata": {},
   "source": [
    "Loop over all **p** of **body**"
   ]
  },
  {
   "cell_type": "code",
   "execution_count": 42,
   "id": "8436967c",
   "metadata": {},
   "outputs": [
    {
     "name": "stdout",
     "output_type": "stream",
     "text": [
      "paragragh 0: Dong In Lee\n",
      "paragragh 1: Data Mining\n",
      "paragragh 2: 10000 dolors\n"
     ]
    }
   ],
   "source": [
    "for i, p in enumerate(soup.body('p')):\n",
    "    print('paragragh {}: {}'.format(i, p.text))"
   ]
  },
  {
   "cell_type": "markdown",
   "id": "d1a568df",
   "metadata": {},
   "source": [
    "Find first **p**'s **id** attribute's value"
   ]
  },
  {
   "cell_type": "code",
   "execution_count": 49,
   "id": "2fa38ef3",
   "metadata": {},
   "outputs": [
    {
     "data": {
      "text/plain": [
       "'author'"
      ]
     },
     "execution_count": 49,
     "metadata": {},
     "output_type": "execute_result"
    }
   ],
   "source": [
    "soup.p['id']"
   ]
  },
  {
   "cell_type": "markdown",
   "id": "7cea7841",
   "metadata": {},
   "source": [
    "Find all **p** whose attribute **id** is 'author'"
   ]
  },
  {
   "cell_type": "code",
   "execution_count": 55,
   "id": "12daac6f",
   "metadata": {},
   "outputs": [
    {
     "data": {
      "text/plain": [
       "[<p id=\"author\">Dong In Lee</p>]"
      ]
     },
     "execution_count": 55,
     "metadata": {},
     "output_type": "execute_result"
    }
   ],
   "source": [
    "soup('p', {'id':'author'}) #딕셔너리 형태로 질문한 것"
   ]
  },
  {
   "cell_type": "markdown",
   "id": "0d92a41b",
   "metadata": {},
   "source": [
    "Find all **p** whose attribute **class** is 'price'"
   ]
  },
  {
   "cell_type": "code",
   "execution_count": 56,
   "id": "d2c712fe",
   "metadata": {
    "scrolled": true
   },
   "outputs": [
    {
     "data": {
      "text/plain": [
       "[<p class=\"price\">10000 dolors</p>]"
      ]
     },
     "execution_count": 56,
     "metadata": {},
     "output_type": "execute_result"
    }
   ],
   "source": [
    "soup('p', {'class':'price'})"
   ]
  },
  {
   "cell_type": "markdown",
   "id": "5bbdaf0a",
   "metadata": {},
   "source": [
    "Find all **texts**"
   ]
  },
  {
   "cell_type": "code",
   "execution_count": 59,
   "id": "2b381b27",
   "metadata": {},
   "outputs": [
    {
     "data": {
      "text/plain": [
       "'\\n        Web title\\n    \\n    \\n        Dong In Lee\\n        Data Mining\\n        10000 dolors\\n    \\n'"
      ]
     },
     "execution_count": 59,
     "metadata": {},
     "output_type": "execute_result"
    }
   ],
   "source": [
    "soup.text"
   ]
  },
  {
   "cell_type": "markdown",
   "id": "48ef1af1",
   "metadata": {},
   "source": [
    "## JSON"
   ]
  },
  {
   "cell_type": "code",
   "execution_count": 65,
   "id": "5b4806ff",
   "metadata": {},
   "outputs": [
    {
     "name": "stdout",
     "output_type": "stream",
     "text": [
      "{'title': 'Data Mining Book', 'author': 'Dong In Lee', 'publicationYear': '2022', 'topics': ['data', 'science', 'data science']}\n"
     ]
    }
   ],
   "source": [
    "import json\n",
    "serialized = \"\"\"{\"title\": \"Data Mining Book\",\n",
    "                 \"author\": \"Dong In Lee\",\n",
    "                 \"publicationYear\": \"2022\",\n",
    "                 \"topics\": [\"data\", \"science\", \"data science\"]}\"\"\"\n",
    "\n",
    "#parse the JSON to create a Python dictionary\n",
    "deserialized = json.loads(serialized)\n",
    "print(deserialized)"
   ]
  },
  {
   "cell_type": "code",
   "execution_count": 64,
   "id": "75f9cbbf",
   "metadata": {},
   "outputs": [
    {
     "data": {
      "text/plain": [
       "'Data Mining Book'"
      ]
     },
     "execution_count": 64,
     "metadata": {},
     "output_type": "execute_result"
    }
   ],
   "source": [
    "deserialized['title']"
   ]
  },
  {
   "cell_type": "code",
   "execution_count": 67,
   "id": "8357e877",
   "metadata": {},
   "outputs": [
    {
     "data": {
      "text/plain": [
       "'Dong In Lee'"
      ]
     },
     "execution_count": 67,
     "metadata": {},
     "output_type": "execute_result"
    }
   ],
   "source": [
    "deserialized['author']"
   ]
  },
  {
   "cell_type": "code",
   "execution_count": 69,
   "id": "64ea6f6a",
   "metadata": {},
   "outputs": [
    {
     "data": {
      "text/plain": [
       "'2022'"
      ]
     },
     "execution_count": 69,
     "metadata": {},
     "output_type": "execute_result"
    }
   ],
   "source": [
    "deserialized['publicationYear']"
   ]
  },
  {
   "cell_type": "code",
   "execution_count": 70,
   "id": "8593a30b",
   "metadata": {},
   "outputs": [
    {
     "data": {
      "text/plain": [
       "['data', 'science', 'data science']"
      ]
     },
     "execution_count": 70,
     "metadata": {},
     "output_type": "execute_result"
    }
   ],
   "source": [
    "deserialized['topics']"
   ]
  },
  {
   "cell_type": "code",
   "execution_count": 73,
   "id": "54564684",
   "metadata": {},
   "outputs": [
    {
     "data": {
      "text/plain": [
       "'data science'"
      ]
     },
     "execution_count": 73,
     "metadata": {},
     "output_type": "execute_result"
    }
   ],
   "source": [
    "deserialized['topics'][2]"
   ]
  },
  {
   "cell_type": "markdown",
   "id": "c41498b5",
   "metadata": {},
   "source": [
    "## XML"
   ]
  },
  {
   "cell_type": "code",
   "execution_count": 93,
   "id": "a81c2138",
   "metadata": {},
   "outputs": [
    {
     "name": "stdout",
     "output_type": "stream",
     "text": [
      "<html><body><book>\n",
      "<title>Data Mining Book</title>\n",
      "<author>Dong In Lee</author>\n",
      "<publicationyear>2022</publicationyear>\n",
      "<topics>\n",
      "<topic>data</topic>\n",
      "<topic>science</topic>\n",
      "<topic>data science</topic>\n",
      "</topics></book>\n",
      "</body></html>\n"
     ]
    }
   ],
   "source": [
    "from bs4 import BeautifulSoup\n",
    "\n",
    "xml_text = \"\"\"\n",
    "<Book>\n",
    "    <Title>Data Mining Book</Title>\n",
    "    <Author>Dong In Lee</Author>\n",
    "    <PublicationYear>2022</PublicationYear>\n",
    "    <Topics>\n",
    "        <Topic>data</Topic>\n",
    "        <Topic>science</Topic>\n",
    "        <Topic>data science</Topic>\n",
    "    </Topcis>\n",
    "</Book>\n",
    "\"\"\"\n",
    "soup = BeautifulSoup(xml_text, 'lxml')\n",
    "print(soup)"
   ]
  },
  {
   "cell_type": "markdown",
   "id": "043f4dcb",
   "metadata": {},
   "source": [
    "Find **title** of **book**"
   ]
  },
  {
   "cell_type": "code",
   "execution_count": 94,
   "id": "cbc240c3",
   "metadata": {},
   "outputs": [
    {
     "data": {
      "text/plain": [
       "<title>Data Mining Book</title>"
      ]
     },
     "execution_count": 94,
     "metadata": {},
     "output_type": "execute_result"
    }
   ],
   "source": [
    "soup.book.title"
   ]
  },
  {
   "cell_type": "code",
   "execution_count": 95,
   "id": "5d153288",
   "metadata": {},
   "outputs": [
    {
     "data": {
      "text/plain": [
       "'Data Mining Book'"
      ]
     },
     "execution_count": 95,
     "metadata": {},
     "output_type": "execute_result"
    }
   ],
   "source": [
    "soup.book.title.text"
   ]
  },
  {
   "cell_type": "markdown",
   "id": "15507f6b",
   "metadata": {},
   "source": [
    "Find **author** of **book**"
   ]
  },
  {
   "cell_type": "code",
   "execution_count": 96,
   "id": "2d3f6f5e",
   "metadata": {},
   "outputs": [
    {
     "data": {
      "text/plain": [
       "<author>Dong In Lee</author>"
      ]
     },
     "execution_count": 96,
     "metadata": {},
     "output_type": "execute_result"
    }
   ],
   "source": [
    "soup.book.author"
   ]
  },
  {
   "cell_type": "code",
   "execution_count": 97,
   "id": "0d841cef",
   "metadata": {},
   "outputs": [
    {
     "data": {
      "text/plain": [
       "'Dong In Lee'"
      ]
     },
     "execution_count": 97,
     "metadata": {},
     "output_type": "execute_result"
    }
   ],
   "source": [
    "soup.book.author.text"
   ]
  },
  {
   "cell_type": "markdown",
   "id": "c29ed3e7",
   "metadata": {},
   "source": [
    "Find all **topic** under **topics**"
   ]
  },
  {
   "cell_type": "code",
   "execution_count": 99,
   "id": "101ca576",
   "metadata": {
    "scrolled": true
   },
   "outputs": [
    {
     "data": {
      "text/plain": [
       "[<topic>data</topic>, <topic>science</topic>, <topic>data science</topic>]"
      ]
     },
     "execution_count": 99,
     "metadata": {},
     "output_type": "execute_result"
    }
   ],
   "source": [
    "soup.topics('topic')"
   ]
  },
  {
   "cell_type": "markdown",
   "id": "5761db48",
   "metadata": {},
   "source": [
    "Find last **topic** of **book**"
   ]
  },
  {
   "cell_type": "code",
   "execution_count": 101,
   "id": "10e0e2b6",
   "metadata": {},
   "outputs": [
    {
     "data": {
      "text/plain": [
       "'data science'"
      ]
     },
     "execution_count": 101,
     "metadata": {},
     "output_type": "execute_result"
    }
   ],
   "source": [
    "soup.book.topics('topic')[-1].text"
   ]
  },
  {
   "cell_type": "markdown",
   "id": "a44490ac",
   "metadata": {},
   "source": [
    "Loop over all **topic** of **book**"
   ]
  },
  {
   "cell_type": "code",
   "execution_count": 105,
   "id": "c1243ed2",
   "metadata": {},
   "outputs": [
    {
     "name": "stdout",
     "output_type": "stream",
     "text": [
      "topic= 0 : data\n",
      "topic= 1 : science\n",
      "topic= 2 : data science\n"
     ]
    }
   ],
   "source": [
    "for i, topic in enumerate(soup.topics('topic')):\n",
    "    print(\"topic= {} : {}\".format(i, topic.text))"
   ]
  }
 ],
 "metadata": {
  "kernelspec": {
   "display_name": "Python 3 (ipykernel)",
   "language": "python",
   "name": "python3"
  },
  "language_info": {
   "codemirror_mode": {
    "name": "ipython",
    "version": 3
   },
   "file_extension": ".py",
   "mimetype": "text/x-python",
   "name": "python",
   "nbconvert_exporter": "python",
   "pygments_lexer": "ipython3",
   "version": "3.9.7"
  }
 },
 "nbformat": 4,
 "nbformat_minor": 5
}
