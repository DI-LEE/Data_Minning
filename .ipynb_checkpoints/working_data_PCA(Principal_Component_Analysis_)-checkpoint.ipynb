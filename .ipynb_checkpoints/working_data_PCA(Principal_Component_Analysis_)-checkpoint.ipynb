{
 "cells": [
  {
   "cell_type": "markdown",
   "id": "e4be979a",
   "metadata": {},
   "source": [
    "# PCA\n",
    "## Principal Component Analysis(주성분 분석)\n",
    "> dimension reduction(차원축소)   \n",
    "> ### $𝑤 = 𝑎𝑟𝑔𝑚𝑎𝑥 \\tiny|𝑤|=1$$∑(𝑥𝑖⋅  𝑤𝑖 )^2$\n",
    "* 고차원의 데이터들을 저차원으로 변환시키기 위함\n",
    "* 여러 데이터들이 모여 하나의 분포를 이룰 때 이 분포의 주성분 분석 \n",
    "\n",
    "*PCA is type of unsupervised learning*"
   ]
  },
  {
   "cell_type": "markdown",
   "id": "2618c2e9",
   "metadata": {},
   "source": [
    "> **Principal Component(주성분)**\n",
    "* 데이터들의 Variance(분산)이 가장 큰 방향벡터(데이터들의 분포를 유지)\n",
    "    * 데이터 들이 최대한 안 겹치게, 멀리 퍼지게 하는 길이가 긴 선분\n",
    "    * 새로운 축이라고 생각하면 편함(축의 변화)\n",
    "* Variance(분산)이 가장 크다고 해도, 모든 데이터들의 Variance(분산)의 합은 같다.\n",
    "* Principal Component(주성분)들은 서로 직교\n",
    "\n",
    "> data transfromation\n",
    "* Principal Component(주성분)으로 데이터들을 projection(투영)하여 데이터를 저차원으로 변환"
   ]
  },
  {
   "cell_type": "markdown",
   "id": "07b5be8b",
   "metadata": {},
   "source": [
    "# PCA\n",
    "principal_component_analysis()\n",
    "* *not sklearn module*"
   ]
  },
  {
   "cell_type": "code",
   "execution_count": 2,
   "id": "f23b9122",
   "metadata": {},
   "outputs": [],
   "source": [
    "def de_mean_matrix(A): #값에서 평균 빼기\n",
    "    \"\"\"returns the result of subtracting from every value in A the mean\n",
    "    value of its column. the resulting matrix has mean 0 in every column\"\"\"\n",
    "    nr, nc = shape(A)\n",
    "    column_means, _ = scale(A)\n",
    "    return make_matrix(nr, nc, lambda i, j: A[i][j] - column_means[j])"
   ]
  },
  {
   "cell_type": "markdown",
   "id": "e27034a7",
   "metadata": {},
   "source": [
    "$\\tiny|𝑤|=1$$∑(𝑥𝑖⋅𝑤𝑖 )^2$ 구현\n"
   ]
  },
  {
   "cell_type": "code",
   "execution_count": 3,
   "id": "9932ceba",
   "metadata": {},
   "outputs": [],
   "source": [
    "#PCA 공식\n",
    "def direction(w): #단위벡터 만들기(단위화)\n",
    "    mag = magnitude(w)\n",
    "    return [w_i / mag for w_i in w]\n",
    "def directional_variance_i(x_i, w): #(x*w)^2\n",
    "    \"\"\"the variance of the row x_i in the direction w\"\"\"\n",
    "    return dot(x_i, direction(w)) ** 2\n",
    "def directional_variance(X, w): #∑\n",
    "    \"\"\"the variance of the data in the direction w\"\"\"\n",
    "    return sum(directional_variance_i(x_i, w) for x_i in X)"
   ]
  },
  {
   "cell_type": "markdown",
   "id": "f5790d60",
   "metadata": {},
   "source": [
    "w 에 대한 편미분: $2(xi⋅wi)⋅xi$ 구현"
   ]
  },
  {
   "cell_type": "code",
   "execution_count": 5,
   "id": "1b10a38c",
   "metadata": {},
   "outputs": [],
   "source": [
    "#최적의 PCA 찾는 gradient decent\n",
    "def directional_variance_gradient_i(x_i, w):\n",
    "    \"\"\"the contribution of row x_i to the gradient of\n",
    "    the direction-w variance\"\"\"\n",
    "    projection_length = dot(x_i, direction(w))\n",
    "    return [2 * projection_length * x_ij for x_ij in x_i] #(2*x*w)*x\n",
    "def directional_variance_gradient(X, w):\n",
    "    return vector_sum(directional_variance_gradient_i(x_i,w) for x_i in X) #∑"
   ]
  },
  {
   "cell_type": "markdown",
   "id": "bea6f609",
   "metadata": {},
   "source": [
    "Graident decent 를 사용"
   ]
  },
  {
   "cell_type": "code",
   "execution_count": 6,
   "id": "6c87baa1",
   "metadata": {},
   "outputs": [],
   "source": [
    "def first_principal_component(X):\n",
    "    guess = [1 for _ in X[0]]\n",
    "    unscaled_maximizer = maximize_batch(\n",
    "    partial(directional_variance, X), # is now a function of w\n",
    "    partial(directional_variance_gradient, X), # is now a function of w\n",
    "    guess)\n",
    "    return direction(unscaled_maximizer)\n",
    "def first_principal_component_sgd(X): #확률적 경사하강법\n",
    "    guess = [1 for _ in X[0]]\n",
    "    unscaled_maximizer = maximize_stochastic(\n",
    "    lambda x, _, w: directional_variance_i(x, w),\n",
    "    lambda x, _, w: directional_variance_gradient_i(x, w),\n",
    "    X, [None for _ in X], guess)\n",
    "    return direction(unscaled_maximizer)"
   ]
  },
  {
   "cell_type": "markdown",
   "id": "67fd57b4",
   "metadata": {},
   "source": [
    "데이터들을 projection(정사영) 후 subtract   \n",
    "$v - (v⋅w)⋅w$"
   ]
  },
  {
   "cell_type": "code",
   "execution_count": 9,
   "id": "7b6ae990",
   "metadata": {},
   "outputs": [],
   "source": [
    "def project(v, w):\n",
    "    \"\"\"return the projection of v onto w\"\"\"\n",
    "    coefficient = dot(v, w)\n",
    "    return scalar_multiply(coefficient, w) #(v*w)*w\n",
    "def remove_projection_from_vector(v, w):\n",
    "    \"\"\"projects v onto w and subtracts the result from v\"\"\"\n",
    "    return vector_subtract(v, project(v, w))\n",
    "def remove_projection(X, w):\n",
    "    \"\"\"for each row of X\n",
    "    projects the row onto w, and subtracts the result from the row\"\"\"\n",
    "    return [remove_projection_from_vector(x_i, w) for x_i in X]"
   ]
  },
  {
   "cell_type": "markdown",
   "id": "3c796f27",
   "metadata": {},
   "source": [
    "**PCA**(principal_component_analysis)"
   ]
  },
  {
   "cell_type": "code",
   "execution_count": null,
   "id": "03b3ff2b",
   "metadata": {},
   "outputs": [],
   "source": [
    "def principal_component_analysis(X, num_components):\n",
    "    components = []\n",
    "    \n",
    "    for _ in range(num_components):\n",
    "        component = first_principal_component(X)\n",
    "        components.append(component)\n",
    "        X = remove_projection(X, component)\n",
    "    \n",
    "    return components"
   ]
  },
  {
   "cell_type": "markdown",
   "id": "d61f055d",
   "metadata": {},
   "source": [
    "**Data transform**"
   ]
  },
  {
   "cell_type": "code",
   "execution_count": null,
   "id": "587afdce",
   "metadata": {},
   "outputs": [],
   "source": [
    "def transform_vector(v, components):\n",
    "    return [dot(v, w) for w in components]\n",
    "def transform(X, components):\n",
    "    return [transform_vector(x_i, components) for x_i in X]"
   ]
  },
  {
   "cell_type": "markdown",
   "id": "a04365b3",
   "metadata": {},
   "source": [
    "# sklearn module with PCA"
   ]
  },
  {
   "cell_type": "code",
   "execution_count": 16,
   "id": "4bd8e77c",
   "metadata": {},
   "outputs": [],
   "source": [
    "DATA = [\n",
    " [20.9666776351559,-13.1138080189357],\n",
    " [22.7719907680008,-19.8890894944696],\n",
    " [25.6687103160153,-11.9956004517219],\n",
    " [18.0019794950564,-18.1989191165133],\n",
    " [21.3967402102156,-10.8893126308196],\n",
    " [0.443696899177716,-19.7221132386308],\n",
    " [29.9198322142127,-14.0958668502427],\n",
    " [19.0805843080126,-13.7888747608312],\n",
    " [16.4685063521314,-11.2612927034291],\n",
    " [21.4597664701884,-12.4740034586705],\n",
    " [3.87655283720532,-17.575162461771],\n",
    " [34.5713920556787,-10.705185165378],\n",
    " [13.3732115747722,-16.7270274494424],\n",
    " [20.7281704141919,-8.81165591556553],\n",
    " [24.839851437942,-12.1240962157419],\n",
    " [20.3019544741252,-12.8725060780898],\n",
    " [21.9021426929599,-17.3225432396452],\n",
    " [23.2285885715486,-12.2676568419045],\n",
    " [28.5749111681851,-13.2616470619453],\n",
    " [29.2957424128701,-14.6299928678996],\n",
    " [15.2495527798625,-18.4649714274207],\n",
    " [26.5567257400476,-9.19794350561966],\n",
    " [30.1934232346361,-12.6272709845971],\n",
    " [36.8267446011057,-7.25409849336718],\n",
    " [32.157416823084,-10.4729534347553],\n",
    " [5.85964365291694,-22.6573731626132],\n",
    " [25.7426190674693,-14.8055803854566],\n",
    " [16.237602636139,-16.5920595763719],\n",
    " [14.7408608850568,-20.0537715298403],\n",
    " [6.85907008242544,-18.3965586884781],\n",
    " [26.5918329233128,-8.92664811750842],\n",
    " [-11.2216019958228,-27.0519081982856],\n",
    " [8.93593745011035,-20.8261235122575],\n",
    " [24.4481258671796,-18.0324012215159],\n",
    " [2.82048515404903,-22.4208457598703],\n",
    " [30.8803004755948,-11.455358009593],\n",
    " [15.4586738236098,-11.1242825084309],\n",
    " [28.5332537090494,-14.7898744423126],\n",
    " [40.4830293441052,-2.41946428697183],\n",
    " [15.7563759125684,-13.5771266003795],\n",
    " [19.3635588851727,-20.6224770470434],\n",
    " [13.4212840786467,-19.0238227375766],\n",
    " [7.77570680426702,-16.6385739839089],\n",
    " [21.4865983854408,-15.290799330002],\n",
    " [12.6392705930724,-23.6433305964301],\n",
    " [12.4746151388128,-17.9720169566614],\n",
    " [23.4572410437998,-14.602080545086],\n",
    " [13.6878189833565,-18.9687408182414],\n",
    " [15.4077465943441,-14.5352487124086],\n",
    " [20.3356581548895,-10.0883159703702],\n",
    " [20.7093833689359,-12.6939091236766],\n",
    " [11.1032293684441,-14.1383848928755],\n",
    " [17.5048321498308,-9.2338593361801],\n",
    " [16.3303688220188,-15.1054735529158],\n",
    " [26.6929062710726,-13.306030567991],\n",
    " [34.4985678099711,-9.86199941278607],\n",
    " [39.1374291499406,-10.5621430853401],\n",
    " [21.9088956482146,-9.95198845621849],\n",
    " [22.2367457578087,-17.2200123442707],\n",
    " [10.0032784145577,-19.3557700653426],\n",
    " [14.045833906665,-15.871937521131],\n",
    " [15.5640911917607,-18.3396956121887],\n",
    " [24.4771926581586,-14.8715313479137],\n",
    " [26.533415556629,-14.693883922494],\n",
    " [12.8722580202544,-21.2750596021509],\n",
    " [24.4768291376862,-15.9592080959207],\n",
    " [18.2230748567433,-14.6541444069985],\n",
    " [4.1902148367447,-20.6144032528762],\n",
    " [12.4332594022086,-16.6079789231489],\n",
    " [20.5483758651873,-18.8512560786321],\n",
    " [17.8180560451358,-12.5451990696752],\n",
    " [11.0071081078049,-20.3938092335862],\n",
    " [8.30560561422449,-22.9503944138682],\n",
    " [33.9857852657284,-4.8371294974382],\n",
    " [17.4376502239652,-14.5095976075022],\n",
    " [29.0379635148943,-14.8461553663227],\n",
    " [29.1344666599319,-7.70862921632672],\n",
    " [32.9730697624544,-15.5839178785654],\n",
    " [13.4211493998212,-20.150199857584],\n",
    " [11.380538260355,-12.8619410359766],\n",
    " [28.672631499186,-8.51866271785711],\n",
    " [16.4296061111902,-23.3326051279759],\n",
    " [25.7168371582585,-13.8899296143829],\n",
    " [13.3185154732595,-17.8959160024249],\n",
    " [3.60832478605376,-25.4023343597712],\n",
    " [39.5445949652652,-11.466377647931],\n",
    " [25.1693484426101,-12.2752652925707],\n",
    " [25.2884257196471,-7.06710309184533],\n",
    " [6.77665715793125,-22.3947299635571],\n",
    " [20.1844223778907,-16.0427471125407],\n",
    " [25.5506805272535,-9.33856532270204],\n",
    " [25.1495682602477,-7.17350567090738],\n",
    " [15.6978431006492,-17.5979197162642],\n",
    " [37.42780451491,-10.843637288504],\n",
    " [22.974620174842,-10.6171162611686],\n",
    " [34.6327117468934,-9.26182440487384],\n",
    " [34.7042513789061,-6.9630753351114],\n",
    " [15.6563953929008,-17.2196961218915],\n",
    " [25.2049825789225,-14.1592086208169]\n",
    "]"
   ]
  },
  {
   "cell_type": "code",
   "execution_count": 20,
   "id": "3f442e43",
   "metadata": {},
   "outputs": [
    {
     "name": "stdout",
     "output_type": "stream",
     "text": [
      "[0.9260347 0.0739653]\n",
      "[[-0.92391028 -0.38260919]\n",
      " [ 0.38260919 -0.92391028]]\n"
     ]
    }
   ],
   "source": [
    "from sklearn.decomposition import PCA\n",
    "import numpy as np\n",
    "\n",
    "X = np.array(DATA)\n",
    "pca = PCA(n_components = 2) #2차원으로 주성분 분석\n",
    "pca.fit(X) #적용\n",
    "\n",
    "print(pca.explained_variance_ratio_) #분산비율\n",
    "print(pca.components_)"
   ]
  },
  {
   "cell_type": "code",
   "execution_count": 27,
   "id": "f0e6fa82",
   "metadata": {},
   "outputs": [
    {
     "data": {
      "image/png": "[encoded data removed]",
      "text/plain": [
       "<Figure size 432x288 with 1 Axes>"
      ]
     },
     "metadata": {
      "needs_background": "light"
     },
     "output_type": "display_data"
    }
   ],
   "source": [
    "import matplotlib.pyplot as plt\n",
    "\n",
    "X = np.array(DATA)\n",
    "TX = X - np.mean(X, axis=0)\n",
    "x, y = TX[:,0], TX[:,1]\n",
    "\n",
    "#plt.figure(figsize=(10,10))\n",
    "plt.scatter(x,y, label='original')\n",
    "plt.axis([-25,25,-25,25])\n",
    "p0 = pca.components_[0]*pca.explained_variance_ratio_[0]*30\n",
    "p1 = pca.components_[1]*pca.explained_variance_ratio_[1]*30\n",
    "plt.arrow(0, 0, p0[0], p0[1], head_width=0.05, head_length=0.1, fc='k', ec='k')\n",
    "plt.arrow(0, 0, p1[0], p1[1], head_width=0.05, head_length=0.1, fc='k', ec='k')\n",
    "\n",
    "# transformed data; 축에 pca 를 x 축으로 하여금 변환시킴\n",
    "x, y = pca.transform(X)[:,0], pca.transform(X)[:,1]\n",
    "plt.scatter(x, y, label='transformed')\n",
    "plt.axis('equal')\n",
    "plt.legend(loc=1)\n",
    "plt.show()\n"
   ]
  },
  {
   "cell_type": "code",
   "execution_count": 29,
   "id": "712f8baf",
   "metadata": {},
   "outputs": [
    {
     "data": {
      "image/png": "[encoded data removed]",
      "text/plain": [
       "<Figure size 432x288 with 1 Axes>"
      ]
     },
     "metadata": {
      "needs_background": "light"
     },
     "output_type": "display_data"
    }
   ],
   "source": [
    "ratio = pca.explained_variance_ratio_\n",
    "plt.bar([1,2], ratio)\n",
    "plt.xticks([1,2])\n",
    "plt.show()"
   ]
  }
 ],
 "metadata": {
  "kernelspec": {
   "display_name": "Python 3 (ipykernel)",
   "language": "python",
   "name": "python3"
  },
  "language_info": {
   "codemirror_mode": {
    "name": "ipython",
    "version": 3
   },
   "file_extension": ".py",
   "mimetype": "text/x-python",
   "name": "python",
   "nbconvert_exporter": "python",
   "pygments_lexer": "ipython3",
   "version": "3.9.7"
  }
 },
 "nbformat": 4,
 "nbformat_minor": 5
}
